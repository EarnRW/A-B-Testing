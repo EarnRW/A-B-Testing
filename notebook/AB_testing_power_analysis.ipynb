{
 "cells": [
  {
   "cell_type": "markdown",
   "metadata": {},
   "source": [
    "# A/B Testing and Power Analysis\n",
    "\n"
   ]
  },
  {
   "cell_type": "markdown",
   "metadata": {},
   "source": [
    "We going to A/B test the new landing page of a webside. I got data from https://www.kaggle.com/datasets/zhangluyuan/ab-testing.\n",
    "\n",
    "The test metric is Conversion Rate (CR):\n",
    "$$\n",
    "    CR = converted / (converted + notconverted)\n",
    "$$\n",
    "\n",
    "Hypothesis: Changing landing page will increase the CR of the web.\n"
   ]
  },
  {
   "cell_type": "code",
   "execution_count": 1,
   "metadata": {},
   "outputs": [],
   "source": [
    "import seaborn as sns\n",
    "sns.set()\n",
    "\n",
    "import matplotlib.pyplot as plt\n",
    "import pandas as pd\n",
    "import numpy as np "
   ]
  },
  {
   "cell_type": "code",
   "execution_count": 2,
   "metadata": {},
   "outputs": [],
   "source": [
    "data = pd.read_csv(\"../data/ab_data.csv\", parse_dates=[\"timestamp\"])"
   ]
  },
  {
   "cell_type": "code",
   "execution_count": 3,
   "metadata": {},
   "outputs": [
    {
     "data": {
      "text/html": [
       "<div>\n",
       "<style scoped>\n",
       "    .dataframe tbody tr th:only-of-type {\n",
       "        vertical-align: middle;\n",
       "    }\n",
       "\n",
       "    .dataframe tbody tr th {\n",
       "        vertical-align: top;\n",
       "    }\n",
       "\n",
       "    .dataframe thead th {\n",
       "        text-align: right;\n",
       "    }\n",
       "</style>\n",
       "<table border=\"1\" class=\"dataframe\">\n",
       "  <thead>\n",
       "    <tr style=\"text-align: right;\">\n",
       "      <th></th>\n",
       "      <th>user_id</th>\n",
       "      <th>timestamp</th>\n",
       "      <th>group</th>\n",
       "      <th>landing_page</th>\n",
       "      <th>converted</th>\n",
       "    </tr>\n",
       "  </thead>\n",
       "  <tbody>\n",
       "    <tr>\n",
       "      <th>0</th>\n",
       "      <td>851104</td>\n",
       "      <td>2017-01-21 22:11:48.556739</td>\n",
       "      <td>control</td>\n",
       "      <td>old_page</td>\n",
       "      <td>0</td>\n",
       "    </tr>\n",
       "    <tr>\n",
       "      <th>1</th>\n",
       "      <td>804228</td>\n",
       "      <td>2017-01-12 08:01:45.159739</td>\n",
       "      <td>control</td>\n",
       "      <td>old_page</td>\n",
       "      <td>0</td>\n",
       "    </tr>\n",
       "    <tr>\n",
       "      <th>2</th>\n",
       "      <td>661590</td>\n",
       "      <td>2017-01-11 16:55:06.154213</td>\n",
       "      <td>treatment</td>\n",
       "      <td>new_page</td>\n",
       "      <td>0</td>\n",
       "    </tr>\n",
       "    <tr>\n",
       "      <th>3</th>\n",
       "      <td>853541</td>\n",
       "      <td>2017-01-08 18:28:03.143765</td>\n",
       "      <td>treatment</td>\n",
       "      <td>new_page</td>\n",
       "      <td>0</td>\n",
       "    </tr>\n",
       "    <tr>\n",
       "      <th>4</th>\n",
       "      <td>864975</td>\n",
       "      <td>2017-01-21 01:52:26.210827</td>\n",
       "      <td>control</td>\n",
       "      <td>old_page</td>\n",
       "      <td>1</td>\n",
       "    </tr>\n",
       "  </tbody>\n",
       "</table>\n",
       "</div>"
      ],
      "text/plain": [
       "   user_id                  timestamp      group landing_page  converted\n",
       "0   851104 2017-01-21 22:11:48.556739    control     old_page          0\n",
       "1   804228 2017-01-12 08:01:45.159739    control     old_page          0\n",
       "2   661590 2017-01-11 16:55:06.154213  treatment     new_page          0\n",
       "3   853541 2017-01-08 18:28:03.143765  treatment     new_page          0\n",
       "4   864975 2017-01-21 01:52:26.210827    control     old_page          1"
      ]
     },
     "execution_count": 3,
     "metadata": {},
     "output_type": "execute_result"
    }
   ],
   "source": [
    "data.head()"
   ]
  },
  {
   "cell_type": "code",
   "execution_count": 4,
   "metadata": {},
   "outputs": [
    {
     "data": {
      "text/plain": [
       "(294478, 5)"
      ]
     },
     "execution_count": 4,
     "metadata": {},
     "output_type": "execute_result"
    }
   ],
   "source": [
    "data.shape"
   ]
  },
  {
   "cell_type": "code",
   "execution_count": 5,
   "metadata": {},
   "outputs": [],
   "source": [
    "multipletime_user = data[\"user_id\"].value_counts()[data[\"user_id\"].value_counts() > 1].index\n",
    "data = data[~data[\"user_id\"].isin(multipletime_user)]"
   ]
  },
  {
   "cell_type": "code",
   "execution_count": 6,
   "metadata": {},
   "outputs": [
    {
     "data": {
      "text/plain": [
       "(286690, 5)"
      ]
     },
     "execution_count": 6,
     "metadata": {},
     "output_type": "execute_result"
    }
   ],
   "source": [
    "data.shape"
   ]
  },
  {
   "cell_type": "code",
   "execution_count": 7,
   "metadata": {},
   "outputs": [
    {
     "name": "stdout",
     "output_type": "stream",
     "text": [
      "<class 'pandas.core.frame.DataFrame'>\n",
      "Int64Index: 286690 entries, 0 to 294477\n",
      "Data columns (total 5 columns):\n",
      " #   Column        Non-Null Count   Dtype         \n",
      "---  ------        --------------   -----         \n",
      " 0   user_id       286690 non-null  int64         \n",
      " 1   timestamp     286690 non-null  datetime64[ns]\n",
      " 2   group         286690 non-null  object        \n",
      " 3   landing_page  286690 non-null  object        \n",
      " 4   converted     286690 non-null  int64         \n",
      "dtypes: datetime64[ns](1), int64(2), object(2)\n",
      "memory usage: 13.1+ MB\n"
     ]
    }
   ],
   "source": [
    "data.info()"
   ]
  },
  {
   "cell_type": "code",
   "execution_count": 8,
   "metadata": {},
   "outputs": [
    {
     "data": {
      "text/plain": [
       "treatment    143397\n",
       "control      143293\n",
       "Name: group, dtype: int64"
      ]
     },
     "execution_count": 8,
     "metadata": {},
     "output_type": "execute_result"
    }
   ],
   "source": [
    "data[\"group\"].value_counts()"
   ]
  },
  {
   "cell_type": "code",
   "execution_count": 9,
   "metadata": {},
   "outputs": [
    {
     "data": {
      "text/html": [
       "<div>\n",
       "<style scoped>\n",
       "    .dataframe tbody tr th:only-of-type {\n",
       "        vertical-align: middle;\n",
       "    }\n",
       "\n",
       "    .dataframe tbody tr th {\n",
       "        vertical-align: top;\n",
       "    }\n",
       "\n",
       "    .dataframe thead th {\n",
       "        text-align: right;\n",
       "    }\n",
       "</style>\n",
       "<table border=\"1\" class=\"dataframe\">\n",
       "  <thead>\n",
       "    <tr style=\"text-align: right;\">\n",
       "      <th>landing_page</th>\n",
       "      <th>new_page</th>\n",
       "      <th>old_page</th>\n",
       "    </tr>\n",
       "    <tr>\n",
       "      <th>group</th>\n",
       "      <th></th>\n",
       "      <th></th>\n",
       "    </tr>\n",
       "  </thead>\n",
       "  <tbody>\n",
       "    <tr>\n",
       "      <th>control</th>\n",
       "      <td>0</td>\n",
       "      <td>143293</td>\n",
       "    </tr>\n",
       "    <tr>\n",
       "      <th>treatment</th>\n",
       "      <td>143397</td>\n",
       "      <td>0</td>\n",
       "    </tr>\n",
       "  </tbody>\n",
       "</table>\n",
       "</div>"
      ],
      "text/plain": [
       "landing_page  new_page  old_page\n",
       "group                           \n",
       "control              0    143293\n",
       "treatment       143397         0"
      ]
     },
     "execution_count": 9,
     "metadata": {},
     "output_type": "execute_result"
    }
   ],
   "source": [
    "# the control group see old_page and the treatment group see the new_page\n",
    "pd.crosstab(data['group'], data['landing_page'])"
   ]
  },
  {
   "cell_type": "markdown",
   "metadata": {},
   "source": [
    "## Designing the A/B test in 3 steps\n",
    "1. setup statistical hypothesis\n",
    "2. find the minimum (reliably) detectable effect or MDE size & determine the test durartion \n",
    "3. calculate the appropriate sample size"
   ]
  },
  {
   "cell_type": "markdown",
   "metadata": {},
   "source": [
    "### 1. Setup Statistical Hypothesis\n",
    "$$\n",
    "    H_0 : \\mu_c = \\mu_t \\\\\n",
    "    H_1 : \\mu_c \\neq \\mu_t\n",
    "$$\n",
    "\n",
    "$\\mu_c$ is sampling distribution mean of CR in control group  \n",
    "$\\mu_t$  is sampling distribution mean of CR in treatment group  \n",
    "\n",
    "We test at 0.05 significant level ($\\alpha = 0.05$)"
   ]
  },
  {
   "cell_type": "markdown",
   "metadata": {},
   "source": [
    "### 2. find the minimum (reliably) detectable effect or MDE size & determine the test duration \n",
    "The MDE affects the appropriate sample size for running an A/B test. The lower MDE, the larger sample size are required to correctly reject the Null Hypothesis at an certain probability. Too large MDE can leads to wasted test. For example, we set MDE at 50% of increasing conversion rate. In this case, it's like we running an unlogical test and the test unlikely to deriver any significant result, and of couse we wasted our time and money. In contrast, we set too low MDE. The test will required more sample size to correctly reject the Null Hypothesis at an certain probability. This means that we have to run our test longer and spend more money and time. The appropriate MDE should be set in the businessman sight. Basically, it shoud be the smallest effect that make your business breakeven if you implement the change that is being tested. \n",
    "\n",
    "In this notebook, let's say we are runing the test within a week."
   ]
  },
  {
   "cell_type": "code",
   "execution_count": 10,
   "metadata": {},
   "outputs": [],
   "source": [
    "old_data = data[(data[\"timestamp\"] >= \"2017-01-02\") & \n",
    "               (data[\"timestamp\"] < \"2017-01-10\") &\n",
    "               (data[\"group\"] == \"control\")] # assume it is the info before new landning page\n",
    "\n",
    "A_data = data[(data[\"timestamp\"] >= \"2017-01-10\") & \n",
    "               (data[\"timestamp\"] < \"2017-01-18\") &\n",
    "               (data[\"group\"] == \"control\")] # running the test in next week \n",
    "\n",
    "B_data = data[(data[\"timestamp\"] >= \"2017-01-10\") & \n",
    "               (data[\"timestamp\"] < \"2017-01-18\") &\n",
    "               (data[\"group\"] == \"treatment\")] # running the test in next week "
   ]
  },
  {
   "cell_type": "code",
   "execution_count": 11,
   "metadata": {},
   "outputs": [
    {
     "name": "stdout",
     "output_type": "stream",
     "text": [
      "0.11920694441567051\n"
     ]
    }
   ],
   "source": [
    "cr_old = old_data[\"converted\"].sum() / old_data[\"converted\"].shape[0]\n",
    "print(cr_old)"
   ]
  },
  {
   "cell_type": "code",
   "execution_count": 12,
   "metadata": {},
   "outputs": [],
   "source": [
    "# set various MDE \n",
    "MDE_small = 0.01 # 1%\n",
    "MDE_medium = 0.10 # 10%\n",
    "MDE_large = 0.20 # 20%"
   ]
  },
  {
   "cell_type": "code",
   "execution_count": 13,
   "metadata": {},
   "outputs": [
    {
     "data": {
      "text/plain": [
       "0.12039901385982721"
      ]
     },
     "execution_count": 13,
     "metadata": {},
     "output_type": "execute_result"
    }
   ],
   "source": [
    "cr_old * (1 + MDE_small)"
   ]
  },
  {
   "cell_type": "code",
   "execution_count": 14,
   "metadata": {},
   "outputs": [
    {
     "data": {
      "text/plain": [
       "0.13112763885723758"
      ]
     },
     "execution_count": 14,
     "metadata": {},
     "output_type": "execute_result"
    }
   ],
   "source": [
    "cr_old * (1 + MDE_medium)"
   ]
  },
  {
   "cell_type": "code",
   "execution_count": 15,
   "metadata": {},
   "outputs": [
    {
     "data": {
      "text/plain": [
       "0.1430483332988046"
      ]
     },
     "execution_count": 15,
     "metadata": {},
     "output_type": "execute_result"
    }
   ],
   "source": [
    "cr_old * (1 + MDE_large)"
   ]
  },
  {
   "cell_type": "markdown",
   "metadata": {},
   "source": [
    "Let's say the business would like to see an increase in CR of at least 10% in order to implement the new landing page. So, we pick MDE at 0.1"
   ]
  },
  {
   "cell_type": "markdown",
   "metadata": {},
   "source": [
    "### 3. calculate the appropriate sample size\n",
    "This could be done using a Power Analysis. The appropriate sample size depends on \n",
    "- MDE as mention above\n",
    "- alpha, the significance level, e.g. 0.05, is the probability of a type I error, that is wrong rejections if the Null Hypothesis is true\n",
    "- power, the power of the test, e.g. 0.8, is one minus the probability of a type II error. Power is the probability that the test correctly rejects the Null Hypothesis if the Alternative Hypothesis is true\n",
    "\n",
    "We will deep down into the details of Power Analysis later, but now we will use NormalIndPower.solve_power function from statsmodels.stats.api to easily solve the appropriate sample size."
   ]
  },
  {
   "cell_type": "code",
   "execution_count": 16,
   "metadata": {},
   "outputs": [
    {
     "name": "stdout",
     "output_type": "stream",
     "text": [
      "12089.86383585548\n"
     ]
    }
   ],
   "source": [
    "import statsmodels.stats.api as sms\n",
    "effect_size = sms.proportion_effectsize(cr_old, cr_old * (1 + MDE_medium))\n",
    "\n",
    "required_n = sms.NormalIndPower().solve_power(\n",
    "    effect_size=effect_size,\n",
    "    power=0.8, # we would like to correctly reject the H0 with 80% probability\n",
    "    alpha=0.05, # we ok with 5% of type I error\n",
    ")\n",
    "\n",
    "print(required_n)"
   ]
  },
  {
   "cell_type": "markdown",
   "metadata": {},
   "source": [
    "In real work this means we have to run the test until we got 12090 samples of each group. So, I will just random pick the 12090 from A and B"
   ]
  },
  {
   "cell_type": "code",
   "execution_count": 17,
   "metadata": {},
   "outputs": [],
   "source": [
    "control_data = A_data.reset_index(drop=True).sample(round(required_n), random_state=42)\n"
   ]
  },
  {
   "cell_type": "code",
   "execution_count": 18,
   "metadata": {},
   "outputs": [],
   "source": [
    "treatment_data = B_data.reset_index(drop=True).sample(round(required_n), random_state=42)"
   ]
  },
  {
   "cell_type": "markdown",
   "metadata": {},
   "source": [
    "## Run A/B Testing"
   ]
  },
  {
   "cell_type": "markdown",
   "metadata": {},
   "source": [
    "We run the test using proportions_ztest from statsmodels and we will reject H0 if p-value less than 0.05"
   ]
  },
  {
   "cell_type": "code",
   "execution_count": 19,
   "metadata": {},
   "outputs": [
    {
     "data": {
      "text/html": [
       "<div>\n",
       "<style scoped>\n",
       "    .dataframe tbody tr th:only-of-type {\n",
       "        vertical-align: middle;\n",
       "    }\n",
       "\n",
       "    .dataframe tbody tr th {\n",
       "        vertical-align: top;\n",
       "    }\n",
       "\n",
       "    .dataframe thead th {\n",
       "        text-align: right;\n",
       "    }\n",
       "</style>\n",
       "<table border=\"1\" class=\"dataframe\">\n",
       "  <thead>\n",
       "    <tr style=\"text-align: right;\">\n",
       "      <th></th>\n",
       "      <th>nobs</th>\n",
       "      <th>total_converted</th>\n",
       "      <th>conversion_rate</th>\n",
       "      <th>standard_deviation</th>\n",
       "      <th>standard_error</th>\n",
       "    </tr>\n",
       "    <tr>\n",
       "      <th>group</th>\n",
       "      <th></th>\n",
       "      <th></th>\n",
       "      <th></th>\n",
       "      <th></th>\n",
       "      <th></th>\n",
       "    </tr>\n",
       "  </thead>\n",
       "  <tbody>\n",
       "    <tr>\n",
       "      <th>control</th>\n",
       "      <td>12090</td>\n",
       "      <td>1385</td>\n",
       "      <td>0.114557</td>\n",
       "      <td>0.318500</td>\n",
       "      <td>0.002897</td>\n",
       "    </tr>\n",
       "    <tr>\n",
       "      <th>treatment</th>\n",
       "      <td>12090</td>\n",
       "      <td>1433</td>\n",
       "      <td>0.118528</td>\n",
       "      <td>0.323245</td>\n",
       "      <td>0.002940</td>\n",
       "    </tr>\n",
       "  </tbody>\n",
       "</table>\n",
       "</div>"
      ],
      "text/plain": [
       "            nobs  total_converted  conversion_rate  standard_deviation  \\\n",
       "group                                                                    \n",
       "control    12090             1385         0.114557            0.318500   \n",
       "treatment  12090             1433         0.118528            0.323245   \n",
       "\n",
       "           standard_error  \n",
       "group                      \n",
       "control          0.002897  \n",
       "treatment        0.002940  "
      ]
     },
     "execution_count": 19,
     "metadata": {},
     "output_type": "execute_result"
    }
   ],
   "source": [
    "import scipy.stats as stats\n",
    "\n",
    "se = lambda x: stats.sem(x, ddof=0) # calculate standard error\n",
    "\n",
    "ab_data = pd.concat([control_data, treatment_data], axis=0)\n",
    "\n",
    "# calculate convertion stats \n",
    "converted = ab_data.groupby(\"group\")[\"converted\"].agg([\"count\", np.sum, np.mean, np.std, se])\n",
    "converted.columns = [\"nobs\", \"total_converted\", \"conversion_rate\", \"standard_deviation\", \"standard_error\"]\n",
    "converted"
   ]
  },
  {
   "cell_type": "code",
   "execution_count": 20,
   "metadata": {},
   "outputs": [
    {
     "name": "stdout",
     "output_type": "stream",
     "text": [
      "z-stat is -0.9620063436938238, p-value is 0.3360464173664066\n"
     ]
    }
   ],
   "source": [
    "from statsmodels.stats.proportion import proportions_ztest, proportion_confint\n",
    "successes = [converted[\"total_converted\"][\"control\"], converted[\"total_converted\"][\"treatment\"]]\n",
    "nobs = [converted[\"nobs\"][\"control\"], converted[\"nobs\"][\"treatment\"]]\n",
    "\n",
    "z_stat, pval = proportions_ztest(successes, nobs=nobs)\n",
    "\n",
    "print(f\"z-stat is {z_stat}, p-value is {pval}\")"
   ]
  },
  {
   "cell_type": "markdown",
   "metadata": {},
   "source": [
    "The p-value of 0.336 (> 0.05) suggests that we can not reject H0. Although we found a little bit higher of conversion rate of treatment group but it is no significantly different from the control group.  "
   ]
  },
  {
   "cell_type": "code",
   "execution_count": 21,
   "metadata": {},
   "outputs": [
    {
     "name": "stdout",
     "output_type": "stream",
     "text": [
      "confidence interval of control group is [0.10888038136811548, 0.12023458968233944]\n",
      "confidence interval of treatment group is [0.11276602774067992, 0.12428938995989908]\n"
     ]
    }
   ],
   "source": [
    "(lower_con, lower_treat), (upper_con, upper_treat) = proportion_confint(successes, nobs=nobs, alpha=0.05)\n",
    "\n",
    "print(f\"confidence interval of control group is [{lower_con}, {upper_con}]\")\n",
    "print(f\"confidence interval of treatment group is [{lower_treat}, {upper_treat}]\")"
   ]
  },
  {
   "cell_type": "code",
   "execution_count": 53,
   "metadata": {},
   "outputs": [
    {
     "data": {
      "image/png": "[encoded data removed]",
      "text/plain": [
       "<Figure size 800x640 with 1 Axes>"
      ]
     },
     "metadata": {},
     "output_type": "display_data"
    }
   ],
   "source": [
    "import matplotlib.pyplot as plt\n",
    "import numpy as np\n",
    "import scipy.stats as stats\n",
    "\n",
    "plt.figure(figsize=(10, 8), dpi=80)\n",
    "\n",
    "mu_c = converted[\"conversion_rate\"][\"control\"]\n",
    "sigma_c = converted[\"standard_error\"][\"control\"]\n",
    "x = np.linspace(mu_c - 3*sigma_c, mu_c + 3*sigma_c, 100)\n",
    "pdf_c = stats.norm.pdf(x, mu_c, sigma_c)\n",
    "plt.plot(x, pdf_c, label=\"control group\")\n",
    "plt.fill_between(x, pdf_c, where=(lower_con < x) & (x < upper_con), alpha=0.5)\n",
    "\n",
    "mu_t = converted[\"conversion_rate\"][\"treatment\"]\n",
    "sigma_t = converted[\"standard_error\"][\"treatment\"]\n",
    "x = np.linspace(mu_t - 3*sigma_t, mu_t + 3*sigma_t, 100)\n",
    "pdf_t = stats.norm.pdf(x, mu_t, sigma_t)\n",
    "plt.plot(x, pdf_t, label=\"treatment group\")\n",
    "plt.fill_between(x, pdf_t, where=(lower_treat < x) & (x < upper_treat), alpha=0.5)\n",
    "\n",
    "plt.title('Distribution of Control & Treatment Group')\n",
    "plt.legend()\n",
    "plt.show()"
   ]
  },
  {
   "cell_type": "markdown",
   "metadata": {},
   "source": [
    "This figure shows that they have an overlaped CI. So, we can not say that they come from a different distribution. "
   ]
  },
  {
   "cell_type": "markdown",
   "metadata": {},
   "source": [
    "## Conclusion \n",
    "According to the A/B testing, we can not say that the new landing page significantly increase the CR of the web, at 95% confidence interval. In this test, we setup experiment using 3 steps. First, we define statistical hypothesis to check that the CR different between control and test grooup. Second, we determine the MDE by assume that business would like to see 10% increase of CR. Third, we caluate the appropriate sample size, using Power Analysis, and found that we need 12090 samples to have 80% chance of correctly reject H0. Lastly, we run the test using z-test. We got p-value of 0.336 which is much larger than 0.05 of alpha so we can not reject H0 and conclude that there is no different in the results between old and new landing page. \n",
    "\n",
    "Next part, we will explore more about the Power Analysis"
   ]
  },
  {
   "cell_type": "markdown",
   "metadata": {},
   "source": [
    "# Power Analysis\n",
    "To understand the Power Analysis, we have to familiar with some terminologies. \n",
    "- Null Hypothesis\n",
    "- Alternate Hypothesis\n",
    "- TypeI error & TypeII error\n",
    "- alpha, beta & power\n",
    "\n",
    "**Null Hypothesis**: A null hypothesis is a type of statistical hypothesis that proposes that no statistical significance exists in a set of given observations. The word \"null\" comes from nullify. It’s a commonly accepted fact that researchers work to nullify, if the null hypothesis can not be rejected.\n",
    "\n",
    "**Alternative Hypothesis**: The alternate hypothesis is just an alternative to the null. If we can reject the null hypothesis, we accept the alternate hypothesis.\n",
    "\n",
    "**TypeI error & TypeII error**:\n",
    "In a statistical hypothesis testing, there is 2 ways that cause an error. First, we reject the null hypothesis while it's acually true. This is also called TypeI error. Secound, we don't reject the null hypothesis while it's acually false. This is also called TypeII error.\n",
    "\n",
    "<p align=\"center\">\n",
    "    <img src=\"../type12error.png\">\n",
    "</p>\n",
    "\n",
    "**alpha, beta & power**: In statistic, we can not be so sure that the conclusion we've made is 100% true. But, we make the conclusion under an acceptable chance of error. The acceptable chance of TypeI error is alpha. If we set alpha of 0.05, it means we accept 5% probabilty of TypeI error. Likewise, beta is the acceptable chance of TypeII error. So, the beta of 0.20 means we accept 20% probabilty of TypeII error. Lastly the power, power is equal 1 - beta. This is the probabilty that we correctly reject the null hypothesis. For example, we set beta of 0.2, the power will be 1 - 0.2 = 0.8. In this case, if we don't reject the H0, there is 20% chance that we don't reject while it false (TypeII). On the other hand, if we reject H0, there is at lease 80% chance that we correctly reject H0."
   ]
  },
  {
   "cell_type": "code",
   "execution_count": 69,
   "metadata": {},
   "outputs": [
    {
     "data": {
      "image/png": "[encoded data removed]",
      "text/plain": [
       "<Figure size 800x640 with 1 Axes>"
      ]
     },
     "metadata": {},
     "output_type": "display_data"
    }
   ],
   "source": [
    "plt.figure(figsize=(10, 8), dpi=80)\n",
    "\n",
    "mu_0 = 1\n",
    "sigma_0 = 1\n",
    "x_0 = np.linspace(mu_0 - 3*sigma_0, mu_0 + 3*sigma_0, 100)\n",
    "pdf_0 = stats.norm.pdf(x_0, mu_0, sigma_0)\n",
    "plt.plot(x_0, pdf_0, label=\"Null Hypothesis\")\n",
    "# plt.fill_between(x_0, pdf_0, where= x > 3.0, label=\"alpha\")\n",
    "\n",
    "mu_1 = 4\n",
    "sigma_1 = 1\n",
    "x_1 = np.linspace(mu_1 - 3*sigma_1, mu_1 + 3*sigma_1, 100)\n",
    "pdf_1 = stats.norm.pdf(x_1, mu_1, sigma_1)\n",
    "plt.plot(x_1, pdf_1, label=\"Alternative Hypothesis\")\n",
    "\n",
    "plt.fill_between(x_1, pdf_1, where= x_1 >= 3.0, alpha=0.5, label=\"power\")\n",
    "plt.fill_between(x_1, pdf_1, where= x_1 <= 3.0, alpha=0.5, label=\"beta\")\n",
    "plt.fill_between(x_0, pdf_0, where= x >= 3.0, label=\"alpha\", color=\"b\")\n",
    "\n",
    "plt.vlines(x=3.0, ymin=0, ymax=0.4 ,color='r', linestyle='-')\n",
    "\n",
    "# plt.title('Distribution of Control & Treatment Group')\n",
    "plt.legend()\n",
    "plt.show()"
   ]
  },
  {
   "cell_type": "code",
   "execution_count": null,
   "metadata": {},
   "outputs": [],
   "source": []
  }
 ],
 "metadata": {
  "interpreter": {
   "hash": "06112e70bcbef0cb38a212b5ef286acba66e2ac9f0ebc6f697dbd0bc4df7119c"
  },
  "kernelspec": {
   "display_name": "Python 3.9.12 ('mlproject')",
   "language": "python",
   "name": "python3"
  },
  "language_info": {
   "codemirror_mode": {
    "name": "ipython",
    "version": 3
   },
   "file_extension": ".py",
   "mimetype": "text/x-python",
   "name": "python",
   "nbconvert_exporter": "python",
   "pygments_lexer": "ipython3",
   "version": "3.9.12"
  },
  "orig_nbformat": 4
 },
 "nbformat": 4,
 "nbformat_minor": 2
}
